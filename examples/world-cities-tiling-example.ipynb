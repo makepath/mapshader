{
 "cells": [
  {
   "cell_type": "markdown",
   "id": "1c5181bc",
   "metadata": {},
   "source": [
    "### Setup a Conda Environment on Coiled"
   ]
  },
  {
   "cell_type": "code",
   "execution_count": null,
   "id": "6739e809",
   "metadata": {},
   "outputs": [],
   "source": [
    "import coiled\n",
    "\n",
    "coiled.create_software_environment(\n",
    "   name='mapshader-tiling',\n",
    "   conda={\n",
    "       'channels': ['conda-forge', 'defaults'],\n",
    "       'dependencies': [\n",
    "           'python=3.9',\n",
    "           'mapshader',\n",
    "           'dask=2022.04.2',\n",
    "           'distributed=2022.4.2',\n",
    "           'cloudpickle=2.0.0',\n",
    "           'spatialpandas',\n",
    "           'boto3',\n",
    "       ],\n",
    "    },\n",
    ")"
   ]
  },
  {
   "cell_type": "markdown",
   "id": "ca6c7296",
   "metadata": {},
   "source": [
    "### Create Dask Cluster on Coiled "
   ]
  },
  {
   "cell_type": "code",
   "execution_count": null,
   "id": "c96ffb3b-165f-48cd-ba82-9bc02ae4f74e",
   "metadata": {
    "colab": {
     "referenced_widgets": [
      "31f8880b3f93490f8db2674ed60bdb06"
     ]
    },
    "id": "c96ffb3b-165f-48cd-ba82-9bc02ae4f74e",
    "outputId": "02d39e29-ee35-443c-fd41-137354731ad8"
   },
   "outputs": [],
   "source": [
    "from coiled.v2 import Cluster\n",
    "cluster = Cluster(name='mapshader-tiler',\n",
    "                  n_workers=10,\n",
    "                  worker_cpu=2,\n",
    "                  worker_options={\"nthreads\": 1},\n",
    "                  scheduler_memory=\"8 GiB\",\n",
    "                  software='mapshader-tiling')\n",
    "\n",
    "from dask.distributed import Client\n",
    "client = Client(cluster)\n",
    "print('Dashboard:', client.dashboard_link)"
   ]
  },
  {
   "cell_type": "markdown",
   "id": "1f2597cf",
   "metadata": {},
   "source": [
    "### Clear cluster memory if necessary"
   ]
  },
  {
   "cell_type": "code",
   "execution_count": null,
   "id": "2f5ccd74",
   "metadata": {},
   "outputs": [],
   "source": [
    "client.restart()"
   ]
  },
  {
   "cell_type": "markdown",
   "id": "c0332ddc",
   "metadata": {},
   "source": [
    "## Tile World Cities (Sparse Points)"
   ]
  },
  {
   "cell_type": "markdown",
   "id": "7ed76e59",
   "metadata": {},
   "source": [
    "### Setup Mapshader Source"
   ]
  },
  {
   "cell_type": "code",
   "execution_count": null,
   "id": "64daee8f",
   "metadata": {},
   "outputs": [],
   "source": [
    "import geopandas as gpd\n",
    "import mapshader\n",
    "import spatialpandas\n",
    "\n",
    "from mapshader.sources import VectorSource\n",
    "\n",
    "\n",
    "def world_cities_source():\n",
    "\n",
    "    # construct transforms\n",
    "    reproject_transform = dict(name='reproject_vector', args=dict(epsg=3857))\n",
    "    add_xy_fields_transform = dict(name='add_xy_fields', args=dict(geometry_field='geometry'))\n",
    "    buffered_extent_transform = dict(name='add_projected_buffered_extent', \n",
    "                                     args=dict(crs='4326',\n",
    "                                               buffer_distance=.01,\n",
    "                                               geometry_field='geometry'))\n",
    "    sp_transform = dict(name='to_spatialpandas', args=dict(geometry_field='geometry'))\n",
    "    \n",
    "    transforms = [reproject_transform,\n",
    "                  add_xy_fields_transform,\n",
    "                  buffered_extent_transform,\n",
    "                  sp_transform]\n",
    "\n",
    "    # construct value obj\n",
    "    source_obj = dict()\n",
    "    source_obj['name'] = 'World Cities'\n",
    "    source_obj['key'] = 'world-cities'\n",
    "    source_obj['text'] = 'World Cities'\n",
    "    source_obj['description'] = 'World Cities Point Locations'\n",
    "    source_obj['geometry_type'] = 'point'\n",
    "    source_obj['agg_func'] = 'max'\n",
    "    source_obj['cmap'] = ['aqua', 'aqua']\n",
    "    source_obj['shade_how'] = 'linear'\n",
    "    source_obj['dynspread'] = 2\n",
    "    source_obj['raster_interpolate'] = 'linear'\n",
    "    source_obj['xfield'] = 'X'\n",
    "    source_obj['yfield'] = 'Y'\n",
    "    source_obj['filepath'] = gpd.datasets.get_path('naturalearth_cities')\n",
    "    source_obj['transforms'] = transforms\n",
    "    source_obj['service_types'] = ['tile', 'wms', 'image', 'geojson']\n",
    "    source_obj['tiling'] = dict(min_zoom=1,\n",
    "                                max_zoom=2,\n",
    "                                xmin_field='buffer_0_4326_xmin',\n",
    "                                xmax_field='buffer_0_4326_xmax',\n",
    "                                ymin_field='buffer_0_4326_ymin',\n",
    "                                ymax_field='buffer_0_4326_ymax'\n",
    "                               )\n",
    "\n",
    "    return source_obj\n",
    "\n",
    "\n",
    "cities_source = VectorSource.from_obj(world_cities_source())\n",
    "cities_source.load()\n",
    "cities_source.data"
   ]
  },
  {
   "cell_type": "markdown",
   "id": "0416783a",
   "metadata": {},
   "source": [
    "### Create a Dask DataFrame of Tile to Process based on Map Source feature extents"
   ]
  },
  {
   "cell_type": "code",
   "execution_count": null,
   "id": "da42e7af",
   "metadata": {},
   "outputs": [],
   "source": [
    "from mapshader.tile_utils import list_tiles\n",
    "\n",
    "tiles_ddf = list_tiles(cities_source, npartitions=2)\n",
    "tiles_ddf.persist()"
   ]
  },
  {
   "cell_type": "markdown",
   "id": "cfa0a560",
   "metadata": {},
   "source": [
    "### Generate tile images and save to an S3 bucket"
   ]
  },
  {
   "cell_type": "code",
   "execution_count": null,
   "id": "83e3b0af",
   "metadata": {},
   "outputs": [],
   "source": [
    "from mapshader.tile_utils import save_tiles_to_outpath\n",
    "\n",
    "save_tiles_to_outpath(cities_source, tiles_ddf, outpath='s3://mapshader-tiling-test-999/cities/')"
   ]
  },
  {
   "cell_type": "markdown",
   "id": "32088d09",
   "metadata": {},
   "source": [
    "### View tiles on OSM basemap"
   ]
  },
  {
   "cell_type": "code",
   "execution_count": null,
   "id": "5f3160b6",
   "metadata": {
    "scrolled": true
   },
   "outputs": [],
   "source": [
    "from ipyleaflet import Map, TileLayer, basemaps, basemap_to_tiles\n",
    "\n",
    "tiles_url = 'https://mapshader-tiling-test-999.s3.amazonaws.com/cities/{z}/{x}/{y}.png'\n",
    "tile_layer=TileLayer(url=tiles_url)\n",
    "\n",
    "from ipyleaflet import Map, basemaps, basemap_to_tiles\n",
    "\n",
    "m = Map(\n",
    "    basemap=basemap_to_tiles(basemaps.OpenStreetMap.Mapnik),\n",
    "    center=(48.204793, 350.121558),\n",
    "    zoom=3\n",
    "    )\n",
    "m\n",
    "\n",
    "m = Map(\n",
    "    basemap=basemap_to_tiles(basemaps.OpenStreetMap.Mapnik),\n",
    "    zoom=2,\n",
    "    scroll_wheel_zoom=True)\n",
    "\n",
    "m.add_layer(tile_layer)\n",
    "m\n",
    "display(m)"
   ]
  }
 ],
 "metadata": {
  "colab": {
   "name": "CoiledDemo.ipynb",
   "provenance": []
  },
  "kernelspec": {
   "display_name": "Python 3 (ipykernel)",
   "language": "python",
   "name": "python3"
  },
  "language_info": {
   "codemirror_mode": {
    "name": "ipython",
    "version": 3
   },
   "file_extension": ".py",
   "mimetype": "text/x-python",
   "name": "python",
   "nbconvert_exporter": "python",
   "pygments_lexer": "ipython3",
   "version": "3.8.13"
  }
 },
 "nbformat": 4,
 "nbformat_minor": 5
}
